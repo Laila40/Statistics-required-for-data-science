{
  "cells": [
    {
      "cell_type": "markdown",
      "metadata": {
        "id": "KEcepzybMkK6"
      },
      "source": [
        "**Elements of Structured Data**"
      ]
    },
    {
      "cell_type": "markdown",
      "source": [
        "Types of data in general:\n",
        "\n",
        "---> Numerical data: Continuous(in interval ranges) and discrete\n",
        "\n",
        "---> Categorical data: Binary and ordinal(contain some order in it)\n",
        "\n",
        "1. Numerical data - Data that are expressed on a numeric scale.\n",
        "\n",
        "  1.1 Continuous data: Data that can take on any value in an interval. \n",
        "  1.2 Discrete data: Data that can take on only integer values, such as counts. \n",
        "\n",
        "2. Categorical data - Data that can take on only a specific set of values representing a set of possible\n",
        "                      categories. \n",
        "                      \n",
        "  2.1 Binary: A special case of categorical data with just two categories of values, e.g., 0/1,\n",
        "              true/false.\n",
        "  2.2 Ordinal: Categorical data that has an explicit ordering."
      ],
      "metadata": {
        "id": "L3IMZ235Ml_B"
      }
    },
    {
      "cell_type": "code",
      "execution_count": null,
      "metadata": {
        "id": "h6m4_alxMkLA"
      },
      "outputs": [],
      "source": [
        "import numpy as np\n",
        "import pandas as pd"
      ]
    },
    {
      "cell_type": "code",
      "execution_count": null,
      "metadata": {
        "id": "icAIqGuKMkLF",
        "outputId": "5c2f4beb-8bb4-4f0d-ac27-513f7354baa6"
      },
      "outputs": [
        {
          "name": "stdout",
          "output_type": "stream",
          "text": [
            "   age\n",
            "0   12\n",
            "1   15\n",
            "2   30\n",
            "3   45\n",
            "4   20\n"
          ]
        }
      ],
      "source": [
        "#Numeric data\n",
        "# create a dataframe\n",
        "data = {\n",
        "        'age': [12, 15, 30, 45, 20]\n",
        "        }\n",
        "\n",
        "df = pd.DataFrame(data)\n",
        "\n",
        "print (df)"
      ]
    },
    {
      "cell_type": "code",
      "execution_count": null,
      "metadata": {
        "id": "afIzkngNMkLJ",
        "outputId": "adb0df3f-877c-425c-b841-0acac42f8c13"
      },
      "outputs": [
        {
          "name": "stdout",
          "output_type": "stream",
          "text": [
            "age    int64\n",
            "dtype: object\n"
          ]
        }
      ],
      "source": [
        "#How to know the data type of a column?\n",
        "print (df.dtypes)"
      ]
    },
    {
      "cell_type": "code",
      "execution_count": null,
      "metadata": {
        "id": "DLOesbv4MkLL",
        "outputId": "d3cb5bee-d380-48a1-a997-c9a000ac21ce"
      },
      "outputs": [
        {
          "data": {
            "text/html": [
              "<div>\n",
              "<style scoped>\n",
              "    .dataframe tbody tr th:only-of-type {\n",
              "        vertical-align: middle;\n",
              "    }\n",
              "\n",
              "    .dataframe tbody tr th {\n",
              "        vertical-align: top;\n",
              "    }\n",
              "\n",
              "    .dataframe thead th {\n",
              "        text-align: right;\n",
              "    }\n",
              "</style>\n",
              "<table border=\"1\" class=\"dataframe\">\n",
              "  <thead>\n",
              "    <tr style=\"text-align: right;\">\n",
              "      <th></th>\n",
              "      <th>movie</th>\n",
              "      <th>rating</th>\n",
              "    </tr>\n",
              "  </thead>\n",
              "  <tbody>\n",
              "    <tr>\n",
              "      <th>0</th>\n",
              "      <td>1</td>\n",
              "      <td>4.2</td>\n",
              "    </tr>\n",
              "    <tr>\n",
              "      <th>1</th>\n",
              "      <td>2</td>\n",
              "      <td>5.0</td>\n",
              "    </tr>\n",
              "    <tr>\n",
              "      <th>2</th>\n",
              "      <td>3</td>\n",
              "      <td>3.5</td>\n",
              "    </tr>\n",
              "  </tbody>\n",
              "</table>\n",
              "</div>"
            ],
            "text/plain": [
              "   movie  rating\n",
              "0      1     4.2\n",
              "1      2     5.0\n",
              "2      3     3.5"
            ]
          },
          "execution_count": 19,
          "metadata": {},
          "output_type": "execute_result"
        }
      ],
      "source": [
        "#creating a dataframe for continuous data\n",
        "data1 = {\n",
        "        'movie': [1, 2, 3, 4, 5],\n",
        "        'rating': [4.2, 5, 3.5, 2, 3]\n",
        "       }\n",
        "df = pd.DataFrame(data1)\n",
        "df.head(3)"
      ]
    },
    {
      "cell_type": "code",
      "execution_count": null,
      "metadata": {
        "id": "pBh0ZFmCMkLM",
        "outputId": "f22a1f4d-a59d-4f36-d4f3-abaa8d445917"
      },
      "outputs": [
        {
          "name": "stdout",
          "output_type": "stream",
          "text": [
            "movie       int64\n",
            "rating    float64\n",
            "dtype: object\n"
          ]
        }
      ],
      "source": [
        "#How to know the data type of a data?\n",
        "print (df.dtypes)"
      ]
    },
    {
      "cell_type": "code",
      "execution_count": null,
      "metadata": {
        "id": "9icnithNMkLO",
        "outputId": "6b256563-51cc-4648-9994-53fffc7d6ce1"
      },
      "outputs": [
        {
          "data": {
            "text/html": [
              "<div>\n",
              "<style scoped>\n",
              "    .dataframe tbody tr th:only-of-type {\n",
              "        vertical-align: middle;\n",
              "    }\n",
              "\n",
              "    .dataframe tbody tr th {\n",
              "        vertical-align: top;\n",
              "    }\n",
              "\n",
              "    .dataframe thead th {\n",
              "        text-align: right;\n",
              "    }\n",
              "</style>\n",
              "<table border=\"1\" class=\"dataframe\">\n",
              "  <thead>\n",
              "    <tr style=\"text-align: right;\">\n",
              "      <th></th>\n",
              "      <th>name</th>\n",
              "      <th>gender</th>\n",
              "    </tr>\n",
              "  </thead>\n",
              "  <tbody>\n",
              "    <tr>\n",
              "      <th>0</th>\n",
              "      <td>John</td>\n",
              "      <td>Male</td>\n",
              "    </tr>\n",
              "    <tr>\n",
              "      <th>1</th>\n",
              "      <td>Mary</td>\n",
              "      <td>Female</td>\n",
              "    </tr>\n",
              "    <tr>\n",
              "      <th>2</th>\n",
              "      <td>Steve</td>\n",
              "      <td>Male</td>\n",
              "    </tr>\n",
              "  </tbody>\n",
              "</table>\n",
              "</div>"
            ],
            "text/plain": [
              "    name  gender\n",
              "0   John    Male\n",
              "1   Mary  Female\n",
              "2  Steve    Male"
            ]
          },
          "execution_count": 25,
          "metadata": {},
          "output_type": "execute_result"
        }
      ],
      "source": [
        "#creating a dataframe for categorical data and ordinal data\n",
        "d1 = { 'name': ['John', 'Mary', 'Steve', 'Bob', 'Alice'],\n",
        "       'gender' : ['Male', 'Female', 'Male', 'Male', 'Female']\n",
        "      }\n",
        "df = pd.DataFrame(d1)\n",
        "df.head(3)\n",
        "    \n",
        "        \n"
      ]
    },
    {
      "cell_type": "code",
      "execution_count": null,
      "metadata": {
        "id": "ayh7MwS8MkLQ",
        "outputId": "09755b04-329d-4579-ec99-a228c2157830"
      },
      "outputs": [
        {
          "name": "stdout",
          "output_type": "stream",
          "text": [
            "name      object\n",
            "gender    object\n",
            "dtype: object\n"
          ]
        }
      ],
      "source": [
        "#How to know the data type of a data?\n",
        "print (df.dtypes)"
      ]
    },
    {
      "cell_type": "code",
      "execution_count": null,
      "metadata": {
        "id": "UH66bpL8MkLR",
        "outputId": "94c921b1-1b4d-44b9-a8a6-8eb9060cc966"
      },
      "outputs": [
        {
          "name": "stdout",
          "output_type": "stream",
          "text": [
            "name         object\n",
            "available      bool\n",
            "dtype: object\n"
          ]
        }
      ],
      "source": [
        "#creating a dataframe for categorical data and binary data\n",
        "d1 = { 'name': ['John', 'Mary', 'Steve', 'Bob', 'Alice'],\n",
        "      'available' : [True, False, True, True, False]\n",
        "      }\n",
        "df = pd.DataFrame(d1)\n",
        "#How to know the data type of a data?\n",
        "print (df.dtypes)"
      ]
    },
    {
      "cell_type": "code",
      "execution_count": null,
      "metadata": {
        "id": "rMl4MUc0MkLU",
        "outputId": "678b6840-550a-49eb-ae6f-ae4a8954abeb"
      },
      "outputs": [
        {
          "name": "stdout",
          "output_type": "stream",
          "text": [
            "name    object\n",
            "age      int64\n",
            "dtype: object\n"
          ]
        }
      ],
      "source": [
        "#creating a dataframe for Categorical data that has an explicit ordering\n",
        "d1 = { 'name': ['John', 'Mary', 'Steve', 'Bob', 'Alice'],\n",
        "      'age' : [12, 15, 20, 25, 30]\n",
        "      }\n",
        "df = pd.DataFrame(d1)\n",
        "#How to know the data type of a data?\n",
        "print(df.dtypes)"
      ]
    }
  ],
  "metadata": {
    "interpreter": {
      "hash": "eb303bda2d532bd4ce610807288500639c8702ae3abc46da76342385bfb32498"
    },
    "kernelspec": {
      "display_name": "Python 3.8.8 64-bit ('ds': conda)",
      "language": "python",
      "name": "python3"
    },
    "language_info": {
      "codemirror_mode": {
        "name": "ipython",
        "version": 3
      },
      "file_extension": ".py",
      "mimetype": "text/x-python",
      "name": "python",
      "nbconvert_exporter": "python",
      "pygments_lexer": "ipython3",
      "version": "3.8.8"
    },
    "orig_nbformat": 4,
    "colab": {
      "name": "Elements of structured data.ipynb",
      "provenance": [],
      "collapsed_sections": []
    }
  },
  "nbformat": 4,
  "nbformat_minor": 0
}
